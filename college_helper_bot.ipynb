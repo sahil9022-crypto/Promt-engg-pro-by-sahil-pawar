{
  "nbformat": 4,
  "nbformat_minor": 0,
  "metadata": {
    "colab": {
      "provenance": [],
      "authorship_tag": "ABX9TyMqD2EsEvMZSMEL806wzCLF",
      "include_colab_link": true
    },
    "kernelspec": {
      "name": "python3",
      "display_name": "Python 3"
    },
    "language_info": {
      "name": "python"
    }
  },
  "cells": [
    {
      "cell_type": "markdown",
      "metadata": {
        "id": "view-in-github",
        "colab_type": "text"
      },
      "source": [
        "<a href=\"https://colab.research.google.com/github/sahil9022-crypto/Promt-engg-pro-by-sahil-pawar/blob/main/college_helper_bot.ipynb\" target=\"_parent\"><img src=\"https://colab.research.google.com/assets/colab-badge.svg\" alt=\"Open In Colab\"/></a>"
      ]
    },
    {
      "cell_type": "code",
      "execution_count": null,
      "metadata": {
        "id": "N8nOB2wvr7Oa"
      },
      "outputs": [],
      "source": [
        "!pip install gspread pandas gspread_dataframe\n"
      ]
    },
    {
      "cell_type": "code",
      "source": [
        "!pip install gspread gspread_dataframe oauth2client pandas\n"
      ],
      "metadata": {
        "id": "p-GM8nKRt3Iz"
      },
      "execution_count": null,
      "outputs": []
    },
    {
      "cell_type": "code",
      "source": [
        "import gspread\n",
        "from google.colab import auth\n",
        "import google.auth\n",
        "from gspread_dataframe import get_as_dataframe\n",
        "import pandas as pd\n",
        "\n",
        "# Authenticate and get credentials\n",
        "auth.authenticate_user()\n",
        "credentials, project_id = google.auth.default()\n",
        "gc = gspread.authorize(credentials)"
      ],
      "metadata": {
        "id": "MBDDCsy_t9Wk"
      },
      "execution_count": 9,
      "outputs": []
    },
    {
      "cell_type": "code",
      "source": [
        "# Paste your Google Sheet URL here\n",
        "sheet_url = \"https://docs.google.com/spreadsheets/d/1tSRZgtigOWchbHw0kLEt8l31FqPRmnFdw60j3azPimo/edit#gid=0\"\n",
        "\n",
        "# Open the sheet and read the first worksheet\n",
        "worksheet = gc.open_by_url(sheet_url).sheet1\n",
        "\n",
        "# Convert to pandas dataframe\n",
        "data = get_as_dataframe(worksheet)\n",
        "\n",
        "# Drop blank rows\n",
        "data = data.dropna(subset=[\"Question\", \"Answer\"])\n",
        "\n",
        "# Show the first 5 entries\n",
        "data.head()\n"
      ],
      "metadata": {
        "colab": {
          "base_uri": "https://localhost:8080/",
          "height": 206
        },
        "id": "wX8xHNkwuE3L",
        "outputId": "5fd48659-52e5-45d9-cae0-36a87bedb225"
      },
      "execution_count": 10,
      "outputs": [
        {
          "output_type": "execute_result",
          "data": {
            "text/plain": [
              "                                    Question  \\\n",
              "0                What is your company about?   \n",
              "1                What is your support email?   \n",
              "2                What is your refund policy?   \n",
              "3  Do you provide internship certificates?\\t   \n",
              "4            What technologies do you teach?   \n",
              "\n",
              "                                              Answer  \n",
              "0  We offer GenAI, Data Science, and Cybersecurit...  \n",
              "1                         publichacker9999@gmail.com  \n",
              "2  You can request a full refund within 14 days o...  \n",
              "3  Yes, we provide verified certificates after co...  \n",
              "4  We cover Python, Machine Learning, Prompt Engi...  "
            ],
            "text/html": [
              "\n",
              "  <div id=\"df-f2694d25-424f-4c69-9db7-0a65c3d3d52c\" class=\"colab-df-container\">\n",
              "    <div>\n",
              "<style scoped>\n",
              "    .dataframe tbody tr th:only-of-type {\n",
              "        vertical-align: middle;\n",
              "    }\n",
              "\n",
              "    .dataframe tbody tr th {\n",
              "        vertical-align: top;\n",
              "    }\n",
              "\n",
              "    .dataframe thead th {\n",
              "        text-align: right;\n",
              "    }\n",
              "</style>\n",
              "<table border=\"1\" class=\"dataframe\">\n",
              "  <thead>\n",
              "    <tr style=\"text-align: right;\">\n",
              "      <th></th>\n",
              "      <th>Question</th>\n",
              "      <th>Answer</th>\n",
              "    </tr>\n",
              "  </thead>\n",
              "  <tbody>\n",
              "    <tr>\n",
              "      <th>0</th>\n",
              "      <td>What is your company about?</td>\n",
              "      <td>We offer GenAI, Data Science, and Cybersecurit...</td>\n",
              "    </tr>\n",
              "    <tr>\n",
              "      <th>1</th>\n",
              "      <td>What is your support email?</td>\n",
              "      <td>publichacker9999@gmail.com</td>\n",
              "    </tr>\n",
              "    <tr>\n",
              "      <th>2</th>\n",
              "      <td>What is your refund policy?</td>\n",
              "      <td>You can request a full refund within 14 days o...</td>\n",
              "    </tr>\n",
              "    <tr>\n",
              "      <th>3</th>\n",
              "      <td>Do you provide internship certificates?\\t</td>\n",
              "      <td>Yes, we provide verified certificates after co...</td>\n",
              "    </tr>\n",
              "    <tr>\n",
              "      <th>4</th>\n",
              "      <td>What technologies do you teach?</td>\n",
              "      <td>We cover Python, Machine Learning, Prompt Engi...</td>\n",
              "    </tr>\n",
              "  </tbody>\n",
              "</table>\n",
              "</div>\n",
              "    <div class=\"colab-df-buttons\">\n",
              "\n",
              "  <div class=\"colab-df-container\">\n",
              "    <button class=\"colab-df-convert\" onclick=\"convertToInteractive('df-f2694d25-424f-4c69-9db7-0a65c3d3d52c')\"\n",
              "            title=\"Convert this dataframe to an interactive table.\"\n",
              "            style=\"display:none;\">\n",
              "\n",
              "  <svg xmlns=\"http://www.w3.org/2000/svg\" height=\"24px\" viewBox=\"0 -960 960 960\">\n",
              "    <path d=\"M120-120v-720h720v720H120Zm60-500h600v-160H180v160Zm220 220h160v-160H400v160Zm0 220h160v-160H400v160ZM180-400h160v-160H180v160Zm440 0h160v-160H620v160ZM180-180h160v-160H180v160Zm440 0h160v-160H620v160Z\"/>\n",
              "  </svg>\n",
              "    </button>\n",
              "\n",
              "  <style>\n",
              "    .colab-df-container {\n",
              "      display:flex;\n",
              "      gap: 12px;\n",
              "    }\n",
              "\n",
              "    .colab-df-convert {\n",
              "      background-color: #E8F0FE;\n",
              "      border: none;\n",
              "      border-radius: 50%;\n",
              "      cursor: pointer;\n",
              "      display: none;\n",
              "      fill: #1967D2;\n",
              "      height: 32px;\n",
              "      padding: 0 0 0 0;\n",
              "      width: 32px;\n",
              "    }\n",
              "\n",
              "    .colab-df-convert:hover {\n",
              "      background-color: #E2EBFA;\n",
              "      box-shadow: 0px 1px 2px rgba(60, 64, 67, 0.3), 0px 1px 3px 1px rgba(60, 64, 67, 0.15);\n",
              "      fill: #174EA6;\n",
              "    }\n",
              "\n",
              "    .colab-df-buttons div {\n",
              "      margin-bottom: 4px;\n",
              "    }\n",
              "\n",
              "    [theme=dark] .colab-df-convert {\n",
              "      background-color: #3B4455;\n",
              "      fill: #D2E3FC;\n",
              "    }\n",
              "\n",
              "    [theme=dark] .colab-df-convert:hover {\n",
              "      background-color: #434B5C;\n",
              "      box-shadow: 0px 1px 3px 1px rgba(0, 0, 0, 0.15);\n",
              "      filter: drop-shadow(0px 1px 2px rgba(0, 0, 0, 0.3));\n",
              "      fill: #FFFFFF;\n",
              "    }\n",
              "  </style>\n",
              "\n",
              "    <script>\n",
              "      const buttonEl =\n",
              "        document.querySelector('#df-f2694d25-424f-4c69-9db7-0a65c3d3d52c button.colab-df-convert');\n",
              "      buttonEl.style.display =\n",
              "        google.colab.kernel.accessAllowed ? 'block' : 'none';\n",
              "\n",
              "      async function convertToInteractive(key) {\n",
              "        const element = document.querySelector('#df-f2694d25-424f-4c69-9db7-0a65c3d3d52c');\n",
              "        const dataTable =\n",
              "          await google.colab.kernel.invokeFunction('convertToInteractive',\n",
              "                                                    [key], {});\n",
              "        if (!dataTable) return;\n",
              "\n",
              "        const docLinkHtml = 'Like what you see? Visit the ' +\n",
              "          '<a target=\"_blank\" href=https://colab.research.google.com/notebooks/data_table.ipynb>data table notebook</a>'\n",
              "          + ' to learn more about interactive tables.';\n",
              "        element.innerHTML = '';\n",
              "        dataTable['output_type'] = 'display_data';\n",
              "        await google.colab.output.renderOutput(dataTable, element);\n",
              "        const docLink = document.createElement('div');\n",
              "        docLink.innerHTML = docLinkHtml;\n",
              "        element.appendChild(docLink);\n",
              "      }\n",
              "    </script>\n",
              "  </div>\n",
              "\n",
              "\n",
              "    <div id=\"df-e964d618-ad1f-4f9b-aae6-4cf522723319\">\n",
              "      <button class=\"colab-df-quickchart\" onclick=\"quickchart('df-e964d618-ad1f-4f9b-aae6-4cf522723319')\"\n",
              "                title=\"Suggest charts\"\n",
              "                style=\"display:none;\">\n",
              "\n",
              "<svg xmlns=\"http://www.w3.org/2000/svg\" height=\"24px\"viewBox=\"0 0 24 24\"\n",
              "     width=\"24px\">\n",
              "    <g>\n",
              "        <path d=\"M19 3H5c-1.1 0-2 .9-2 2v14c0 1.1.9 2 2 2h14c1.1 0 2-.9 2-2V5c0-1.1-.9-2-2-2zM9 17H7v-7h2v7zm4 0h-2V7h2v10zm4 0h-2v-4h2v4z\"/>\n",
              "    </g>\n",
              "</svg>\n",
              "      </button>\n",
              "\n",
              "<style>\n",
              "  .colab-df-quickchart {\n",
              "      --bg-color: #E8F0FE;\n",
              "      --fill-color: #1967D2;\n",
              "      --hover-bg-color: #E2EBFA;\n",
              "      --hover-fill-color: #174EA6;\n",
              "      --disabled-fill-color: #AAA;\n",
              "      --disabled-bg-color: #DDD;\n",
              "  }\n",
              "\n",
              "  [theme=dark] .colab-df-quickchart {\n",
              "      --bg-color: #3B4455;\n",
              "      --fill-color: #D2E3FC;\n",
              "      --hover-bg-color: #434B5C;\n",
              "      --hover-fill-color: #FFFFFF;\n",
              "      --disabled-bg-color: #3B4455;\n",
              "      --disabled-fill-color: #666;\n",
              "  }\n",
              "\n",
              "  .colab-df-quickchart {\n",
              "    background-color: var(--bg-color);\n",
              "    border: none;\n",
              "    border-radius: 50%;\n",
              "    cursor: pointer;\n",
              "    display: none;\n",
              "    fill: var(--fill-color);\n",
              "    height: 32px;\n",
              "    padding: 0;\n",
              "    width: 32px;\n",
              "  }\n",
              "\n",
              "  .colab-df-quickchart:hover {\n",
              "    background-color: var(--hover-bg-color);\n",
              "    box-shadow: 0 1px 2px rgba(60, 64, 67, 0.3), 0 1px 3px 1px rgba(60, 64, 67, 0.15);\n",
              "    fill: var(--button-hover-fill-color);\n",
              "  }\n",
              "\n",
              "  .colab-df-quickchart-complete:disabled,\n",
              "  .colab-df-quickchart-complete:disabled:hover {\n",
              "    background-color: var(--disabled-bg-color);\n",
              "    fill: var(--disabled-fill-color);\n",
              "    box-shadow: none;\n",
              "  }\n",
              "\n",
              "  .colab-df-spinner {\n",
              "    border: 2px solid var(--fill-color);\n",
              "    border-color: transparent;\n",
              "    border-bottom-color: var(--fill-color);\n",
              "    animation:\n",
              "      spin 1s steps(1) infinite;\n",
              "  }\n",
              "\n",
              "  @keyframes spin {\n",
              "    0% {\n",
              "      border-color: transparent;\n",
              "      border-bottom-color: var(--fill-color);\n",
              "      border-left-color: var(--fill-color);\n",
              "    }\n",
              "    20% {\n",
              "      border-color: transparent;\n",
              "      border-left-color: var(--fill-color);\n",
              "      border-top-color: var(--fill-color);\n",
              "    }\n",
              "    30% {\n",
              "      border-color: transparent;\n",
              "      border-left-color: var(--fill-color);\n",
              "      border-top-color: var(--fill-color);\n",
              "      border-right-color: var(--fill-color);\n",
              "    }\n",
              "    40% {\n",
              "      border-color: transparent;\n",
              "      border-right-color: var(--fill-color);\n",
              "      border-top-color: var(--fill-color);\n",
              "    }\n",
              "    60% {\n",
              "      border-color: transparent;\n",
              "      border-right-color: var(--fill-color);\n",
              "    }\n",
              "    80% {\n",
              "      border-color: transparent;\n",
              "      border-right-color: var(--fill-color);\n",
              "      border-bottom-color: var(--fill-color);\n",
              "    }\n",
              "    90% {\n",
              "      border-color: transparent;\n",
              "      border-bottom-color: var(--fill-color);\n",
              "    }\n",
              "  }\n",
              "</style>\n",
              "\n",
              "      <script>\n",
              "        async function quickchart(key) {\n",
              "          const quickchartButtonEl =\n",
              "            document.querySelector('#' + key + ' button');\n",
              "          quickchartButtonEl.disabled = true;  // To prevent multiple clicks.\n",
              "          quickchartButtonEl.classList.add('colab-df-spinner');\n",
              "          try {\n",
              "            const charts = await google.colab.kernel.invokeFunction(\n",
              "                'suggestCharts', [key], {});\n",
              "          } catch (error) {\n",
              "            console.error('Error during call to suggestCharts:', error);\n",
              "          }\n",
              "          quickchartButtonEl.classList.remove('colab-df-spinner');\n",
              "          quickchartButtonEl.classList.add('colab-df-quickchart-complete');\n",
              "        }\n",
              "        (() => {\n",
              "          let quickchartButtonEl =\n",
              "            document.querySelector('#df-e964d618-ad1f-4f9b-aae6-4cf522723319 button');\n",
              "          quickchartButtonEl.style.display =\n",
              "            google.colab.kernel.accessAllowed ? 'block' : 'none';\n",
              "        })();\n",
              "      </script>\n",
              "    </div>\n",
              "\n",
              "    </div>\n",
              "  </div>\n"
            ],
            "application/vnd.google.colaboratory.intrinsic+json": {
              "type": "dataframe",
              "variable_name": "data",
              "summary": "{\n  \"name\": \"data\",\n  \"rows\": 5,\n  \"fields\": [\n    {\n      \"column\": \"Question\",\n      \"properties\": {\n        \"dtype\": \"string\",\n        \"num_unique_values\": 5,\n        \"samples\": [\n          \"What is your support email?\",\n          \"What technologies do you teach?\",\n          \"What is your refund policy?\"\n        ],\n        \"semantic_type\": \"\",\n        \"description\": \"\"\n      }\n    },\n    {\n      \"column\": \"Answer\",\n      \"properties\": {\n        \"dtype\": \"string\",\n        \"num_unique_values\": 5,\n        \"samples\": [\n          \"publichacker9999@gmail.com\",\n          \"We cover Python, Machine Learning, Prompt Engineering, and more\",\n          \"You can request a full refund within 14 days of purchase.\"\n        ],\n        \"semantic_type\": \"\",\n        \"description\": \"\"\n      }\n    }\n  ]\n}"
            }
          },
          "metadata": {},
          "execution_count": 10
        }
      ]
    },
    {
      "cell_type": "code",
      "source": [
        "from sklearn.feature_extraction.text import TfidfVectorizer\n",
        "from sklearn.metrics.pairwise import cosine_similarity\n"
      ],
      "metadata": {
        "id": "hIRusuGvu0Sz"
      },
      "execution_count": 11,
      "outputs": []
    },
    {
      "cell_type": "code",
      "source": [
        "# Get the 'Question' column from your data\n",
        "questions = data['Question'].fillna(\"\").tolist()\n",
        "\n",
        "# Initialize the vectorizer\n",
        "vectorizer = TfidfVectorizer()\n",
        "question_vectors = vectorizer.fit_transform(questions)\n"
      ],
      "metadata": {
        "id": "8oO7K5tHu2ab"
      },
      "execution_count": 12,
      "outputs": []
    },
    {
      "cell_type": "code",
      "source": [
        "def get_bot_answer(user_input):\n",
        "    # Convert user input to the same vector space\n",
        "    user_vec = vectorizer.transform([user_input])\n",
        "\n",
        "    # Compute cosine similarity with all sheet questions\n",
        "    similarity_scores = cosine_similarity(user_vec, question_vectors)\n",
        "\n",
        "    # Get index of the best matching question\n",
        "    best_match_index = similarity_scores.argmax()\n",
        "\n",
        "    # Get the best answer\n",
        "    best_question = data['Question'].iloc[best_match_index]\n",
        "    best_answer = data['Answer'].iloc[best_match_index]\n",
        "\n",
        "    # Show both matched question and answer (for clarity)\n",
        "    return f\"📌 Matched Question: {best_question}\\n✅ Answer: {best_answer}\"\n"
      ],
      "metadata": {
        "id": "JVzrc8VVu6Yr"
      },
      "execution_count": 13,
      "outputs": []
    },
    {
      "cell_type": "code",
      "source": [
        "print(get_bot_answer(\"What is your company about?\"))\n"
      ],
      "metadata": {
        "colab": {
          "base_uri": "https://localhost:8080/"
        },
        "id": "x1la8B3bu-iM",
        "outputId": "3bd4bdd6-aef5-4218-dc35-9f184cad4ff8"
      },
      "execution_count": 15,
      "outputs": [
        {
          "output_type": "stream",
          "name": "stdout",
          "text": [
            "📌 Matched Question: What is your company about?\n",
            "✅ Answer: We offer GenAI, Data Science, and Cybersecurity training services.\n",
            "How can I enroll in a course?\tYou can sign up on our website or contact us via email.\n"
          ]
        }
      ]
    },
    {
      "cell_type": "code",
      "source": [
        "!pip install gradio --quiet\n",
        "\n",
        "import pandas as pd\n",
        "from sklearn.feature_extraction.text import TfidfVectorizer\n",
        "from sklearn.metrics.pairwise import cosine_similarity\n",
        "import gradio as gr\n",
        "\n",
        "# --- STEP 1: Connect to Google Sheet ---\n",
        "sheet_url = 'https://docs.google.com/spreadsheets/d/1tSRZgtigOWchbHw0kLEt8l31FqPRmnFdw60j3azPimo/edit?usp=drivesdk'\n",
        "csv_url = sheet_url.replace(\"/edit?usp=drivesdk\", \"/export?format=csv\")\n",
        "df = pd.read_csv(csv_url)\n",
        "\n",
        "# --- STEP 2: Preprocess Questions ---\n",
        "vectorizer = TfidfVectorizer()\n",
        "question_vectors = vectorizer.fit_transform(df['Question'])\n",
        "\n",
        "# --- STEP 3: Define Bot Response Function ---\n",
        "def get_bot_answer(user_input):\n",
        "    input_vec = vectorizer.transform([user_input])\n",
        "    similarity = cosine_similarity(input_vec, question_vectors)\n",
        "    index = similarity.argmax()\n",
        "    score = similarity[0][index]\n",
        "    if score > 0.3:\n",
        "        return df.iloc[index]['Answer']\n",
        "    else:\n",
        "        return \"Sorry, I couldn't find a good answer. Please try rephrasing!\"\n",
        "\n",
        "# --- STEP 4: Gradio UI ---\n",
        "iface = gr.Interface(\n",
        "    fn=get_bot_answer,\n",
        "    inputs=\"text\",\n",
        "    outputs=\"text\",\n",
        "    title=\"📘 College Study Bot\",\n",
        "    description=\"Ask any question from the syllabus. Powered by AI + your Google Sheet!\"\n",
        ")\n",
        "\n",
        "iface.launch()\n"
      ],
      "metadata": {
        "colab": {
          "base_uri": "https://localhost:8080/",
          "height": 646
        },
        "id": "jVAYos6rwY02",
        "outputId": "86f4f0e3-14c3-4896-c8aa-2bfb9122f4c4"
      },
      "execution_count": 1,
      "outputs": [
        {
          "output_type": "stream",
          "name": "stdout",
          "text": [
            "It looks like you are running Gradio on a hosted Jupyter notebook, which requires `share=True`. Automatically setting `share=True` (you can turn this off by setting `share=False` in `launch()` explicitly).\n",
            "\n",
            "Colab notebook detected. To show errors in colab notebook, set debug=True in launch()\n",
            "* Running on public URL: https://e04edb6df97180ff9e.gradio.live\n",
            "\n",
            "This share link expires in 1 week. For free permanent hosting and GPU upgrades, run `gradio deploy` from the terminal in the working directory to deploy to Hugging Face Spaces (https://huggingface.co/spaces)\n"
          ]
        },
        {
          "output_type": "display_data",
          "data": {
            "text/plain": [
              "<IPython.core.display.HTML object>"
            ],
            "text/html": [
              "<div><iframe src=\"https://e04edb6df97180ff9e.gradio.live\" width=\"100%\" height=\"500\" allow=\"autoplay; camera; microphone; clipboard-read; clipboard-write;\" frameborder=\"0\" allowfullscreen></iframe></div>"
            ]
          },
          "metadata": {}
        },
        {
          "output_type": "execute_result",
          "data": {
            "text/plain": []
          },
          "metadata": {},
          "execution_count": 1
        }
      ]
    },
    {
      "cell_type": "code",
      "source": [
        "import gradio as gr\n",
        "import pandas as pd\n",
        "import gspread\n",
        "from google.colab import auth\n",
        "import google.auth\n",
        "from sklearn.feature_extraction.text import TfidfVectorizer\n",
        "from sklearn.metrics.pairwise import cosine_similarity\n",
        "\n",
        "# Authenticate and connect to Google Sheets\n",
        "auth.authenticate_user()\n",
        "credentials, project_id = google.auth.default()\n",
        "gc = gspread.authorize(credentials)\n",
        "\n",
        "sheet = gc.open_by_url('https://docs.google.com/spreadsheets/d/1tSRZgtigOWchbHw0kLEt8l31FqPRmnFdw60j3azPimo/edit?usp=drivesdk')\n",
        "worksheet = sheet.sheet1\n",
        "data = worksheet.get_all_records()\n",
        "df = pd.DataFrame(data)\n",
        "\n",
        "# Bot logic\n",
        "def chatbot_response(user_input):\n",
        "    # --- STEP 2: Preprocess Questions ---\n",
        "    vectorizer = TfidfVectorizer()\n",
        "    question_vectors = vectorizer.fit_transform(df['Question'])\n",
        "\n",
        "    # --- STEP 3: Define Bot Response Function ---\n",
        "    input_vec = vectorizer.transform([user_input])\n",
        "    similarity = cosine_similarity(input_vec, question_vectors)\n",
        "    index = similarity.argmax()\n",
        "    score = similarity[0][index]\n",
        "\n",
        "    # Assuming the column names are 'Question' and 'Answer'\n",
        "    if score > 0.3:\n",
        "        return df.iloc[index]['Answer']\n",
        "    else:\n",
        "        return \"Sorry, I couldn't find a good answer. Please try rephrasing!\"\n",
        "\n",
        "# Gradio UI\n",
        "iface = gr.Interface(\n",
        "    fn=chatbot_response,\n",
        "    inputs=gr.Textbox(lines=2, placeholder=\"Ask your question...\"),\n",
        "    outputs=\"text\",\n",
        "    title=\"College Study Helper Bot\",\n",
        "    description=\"Ask questions related to your studies\"\n",
        ")\n",
        "\n",
        "iface.launch()"
      ],
      "metadata": {
        "colab": {
          "base_uri": "https://localhost:8080/",
          "height": 646
        },
        "id": "SnjIolhizADu",
        "outputId": "8d012c4d-0568-418a-ba42-2072a3b7d360"
      },
      "execution_count": 3,
      "outputs": [
        {
          "output_type": "stream",
          "name": "stdout",
          "text": [
            "It looks like you are running Gradio on a hosted Jupyter notebook, which requires `share=True`. Automatically setting `share=True` (you can turn this off by setting `share=False` in `launch()` explicitly).\n",
            "\n",
            "Colab notebook detected. To show errors in colab notebook, set debug=True in launch()\n",
            "* Running on public URL: https://1998cd1e3345db2d16.gradio.live\n",
            "\n",
            "This share link expires in 1 week. For free permanent hosting and GPU upgrades, run `gradio deploy` from the terminal in the working directory to deploy to Hugging Face Spaces (https://huggingface.co/spaces)\n"
          ]
        },
        {
          "output_type": "display_data",
          "data": {
            "text/plain": [
              "<IPython.core.display.HTML object>"
            ],
            "text/html": [
              "<div><iframe src=\"https://1998cd1e3345db2d16.gradio.live\" width=\"100%\" height=\"500\" allow=\"autoplay; camera; microphone; clipboard-read; clipboard-write;\" frameborder=\"0\" allowfullscreen></iframe></div>"
            ]
          },
          "metadata": {}
        },
        {
          "output_type": "execute_result",
          "data": {
            "text/plain": []
          },
          "metadata": {},
          "execution_count": 3
        }
      ]
    },
    {
      "cell_type": "code",
      "source": [
        "from google.colab import auth\n",
        "auth.authenticate_user()\n"
      ],
      "metadata": {
        "id": "i2dGHmeS3XMY"
      },
      "execution_count": 7,
      "outputs": []
    },
    {
      "cell_type": "code",
      "source": [
        "!zip -r chatbot_project.zip /content\n"
      ],
      "metadata": {
        "id": "WJgzJrLN0S7l"
      },
      "execution_count": null,
      "outputs": []
    },
    {
      "cell_type": "markdown",
      "source": [
        "🧑‍💻 Built By\n",
        "Sahil Pawar\n",
        "Prompt Engineer | Data Science Enthusiast | Ethical Hacker\n",
        "🌍 From Sangli, Maharashtra, India\n",
        "\n",
        "📌 Future Scope\n",
        "🌍 Multilingual support\n",
        "\n",
        "🗣️ Voice input/output (speech recognition)\n",
        "\n",
        "📲 Mobile-friendly version\n",
        "\n",
        "💬 GPT integration for fallback answers"
      ],
      "metadata": {
        "id": "UFaPOQ-o3oNS"
      }
    },
    {
      "cell_type": "markdown",
      "source": [
        "# 🤖 AI-Powered Study Assistant Chatbot\n",
        "\n",
        "A smart, responsive chatbot built using **Gradio** + **Google Sheets** + **Python**, designed to help students interactively learn from a structured knowledge base. Simple to use, easy to update — just modify the Google Sheet and you're done!\n",
        "\n",
        "---\n",
        "\n",
        "## 🚀 Features\n",
        "\n",
        "- ✅ Gradio chatbot UI\n",
        "- ✅ Smart fuzzy logic to match closest question\n",
        "- ✅ Reads from Google Sheet knowledge base\n",
        "- ✅ Beginner-friendly (Google Colab compatible)\n",
        "- ✅ Portable and customizable\n",
        "\n",
        "---\n",
        "\n",
        "## 🎯 Tech Stack\n",
        "\n",
        "- Python 🐍\n",
        "- Gradio 🎛️\n",
        "- GSpread + Google Sheets API 🧾\n",
        "- Google Colab (for execution)\n",
        "- Markdown + GitHub for documentation\n",
        "\n",
        "---\n",
        "\n",
        "## 🧠 How It Works\n",
        "\n",
        "1. Connects to a **Google Sheet** using Google credentials.\n",
        "2. Accepts user input through **Gradio UI**.\n",
        "3. Uses `difflib.get_close_matches()` to match user's question.\n",
        "4. Displays the most relevant answer from the sheet.\n",
        "\n",
        "---\n",
        "\n",
        "---\n",
        "\n",
        "## 📋 Google Sheet Format\n",
        "\n",
        "Your Google Sheet should look like this:\n",
        "\n",
        "| question                  | answer                           |\n",
        "|--------------------------|----------------------------------|\n",
        "| What is Python?          | Python is a programming language.|\n",
        "| What is a loop?          | Loop is a control structure.     |\n",
        "\n",
        "---\n",
        "\n",
        "## 🧪 Run the Project (Google Colab or Locally)\n",
        "\n",
        "### 1. Install Dependencies\n",
        "```bash\n",
        "pip install gradio gspread google-auth\n",
        "\n",
        "\n",
        "## 🗂️ Folder Structure\n",
        "\n",
        "AI-Study-Assistant/\n",
        "│\n",
        "├── app.py                # Main chatbot app (Gradio UI + Google Sheet logic)\n",
        "├── requirements.txt      # Python dependencies\n",
        "├── README.md             # Complete project documentation\n",
        "└── assets/\n",
        "    └── screenshot.png    # Chatbot UI screenshot (for LinkedIn/GitHub)\n"
      ],
      "metadata": {
        "id": "ppuNhgak1PhQ"
      }
    }
  ]
}