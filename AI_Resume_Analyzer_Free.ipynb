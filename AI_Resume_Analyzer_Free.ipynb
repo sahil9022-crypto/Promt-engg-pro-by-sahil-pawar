{
  "nbformat": 4,
  "nbformat_minor": 0,
  "metadata": {
    "colab": {
      "provenance": [],
      "authorship_tag": "ABX9TyNQEScSwhuCp1BEMXpaX55n",
      "include_colab_link": true
    },
    "kernelspec": {
      "name": "python3",
      "display_name": "Python 3"
    },
    "language_info": {
      "name": "python"
    }
  },
  "cells": [
    {
      "cell_type": "markdown",
      "metadata": {
        "id": "view-in-github",
        "colab_type": "text"
      },
      "source": [
        "<a href=\"https://colab.research.google.com/github/sahil9022-crypto/Promt-engg-pro-by-sahil-pawar/blob/main/AI_Resume_Analyzer_Free.ipynb\" target=\"_parent\"><img src=\"https://colab.research.google.com/assets/colab-badge.svg\" alt=\"Open In Colab\"/></a>"
      ]
    },
    {
      "cell_type": "code",
      "execution_count": null,
      "metadata": {
        "id": "_kxvlWb8DmRO"
      },
      "outputs": [],
      "source": [
        "!pip install -q transformers langchain pypdf2 sentence-transformers"
      ]
    },
    {
      "cell_type": "code",
      "source": [
        "from google.colab import files\n",
        "\n",
        "uploaded_file = files.upload()\n",
        "\n",
        "pdf_file = list(uploaded_file.keys())[0]\n",
        "print(f\"Uploaded file: {pdf_file}\")\n"
      ],
      "metadata": {
        "colab": {
          "base_uri": "https://localhost:8080/",
          "height": 91
        },
        "id": "WfvEpwq7EEty",
        "outputId": "e7d4ec6a-6b6e-49fa-95f0-db38ad99b9c0"
      },
      "execution_count": null,
      "outputs": [
        {
          "output_type": "display_data",
          "data": {
            "text/plain": [
              "<IPython.core.display.HTML object>"
            ],
            "text/html": [
              "\n",
              "     <input type=\"file\" id=\"files-c61bf1e6-a48b-420d-bb60-ef1c775be8d6\" name=\"files[]\" multiple disabled\n",
              "        style=\"border:none\" />\n",
              "     <output id=\"result-c61bf1e6-a48b-420d-bb60-ef1c775be8d6\">\n",
              "      Upload widget is only available when the cell has been executed in the\n",
              "      current browser session. Please rerun this cell to enable.\n",
              "      </output>\n",
              "      <script>// Copyright 2017 Google LLC\n",
              "//\n",
              "// Licensed under the Apache License, Version 2.0 (the \"License\");\n",
              "// you may not use this file except in compliance with the License.\n",
              "// You may obtain a copy of the License at\n",
              "//\n",
              "//      http://www.apache.org/licenses/LICENSE-2.0\n",
              "//\n",
              "// Unless required by applicable law or agreed to in writing, software\n",
              "// distributed under the License is distributed on an \"AS IS\" BASIS,\n",
              "// WITHOUT WARRANTIES OR CONDITIONS OF ANY KIND, either express or implied.\n",
              "// See the License for the specific language governing permissions and\n",
              "// limitations under the License.\n",
              "\n",
              "/**\n",
              " * @fileoverview Helpers for google.colab Python module.\n",
              " */\n",
              "(function(scope) {\n",
              "function span(text, styleAttributes = {}) {\n",
              "  const element = document.createElement('span');\n",
              "  element.textContent = text;\n",
              "  for (const key of Object.keys(styleAttributes)) {\n",
              "    element.style[key] = styleAttributes[key];\n",
              "  }\n",
              "  return element;\n",
              "}\n",
              "\n",
              "// Max number of bytes which will be uploaded at a time.\n",
              "const MAX_PAYLOAD_SIZE = 100 * 1024;\n",
              "\n",
              "function _uploadFiles(inputId, outputId) {\n",
              "  const steps = uploadFilesStep(inputId, outputId);\n",
              "  const outputElement = document.getElementById(outputId);\n",
              "  // Cache steps on the outputElement to make it available for the next call\n",
              "  // to uploadFilesContinue from Python.\n",
              "  outputElement.steps = steps;\n",
              "\n",
              "  return _uploadFilesContinue(outputId);\n",
              "}\n",
              "\n",
              "// This is roughly an async generator (not supported in the browser yet),\n",
              "// where there are multiple asynchronous steps and the Python side is going\n",
              "// to poll for completion of each step.\n",
              "// This uses a Promise to block the python side on completion of each step,\n",
              "// then passes the result of the previous step as the input to the next step.\n",
              "function _uploadFilesContinue(outputId) {\n",
              "  const outputElement = document.getElementById(outputId);\n",
              "  const steps = outputElement.steps;\n",
              "\n",
              "  const next = steps.next(outputElement.lastPromiseValue);\n",
              "  return Promise.resolve(next.value.promise).then((value) => {\n",
              "    // Cache the last promise value to make it available to the next\n",
              "    // step of the generator.\n",
              "    outputElement.lastPromiseValue = value;\n",
              "    return next.value.response;\n",
              "  });\n",
              "}\n",
              "\n",
              "/**\n",
              " * Generator function which is called between each async step of the upload\n",
              " * process.\n",
              " * @param {string} inputId Element ID of the input file picker element.\n",
              " * @param {string} outputId Element ID of the output display.\n",
              " * @return {!Iterable<!Object>} Iterable of next steps.\n",
              " */\n",
              "function* uploadFilesStep(inputId, outputId) {\n",
              "  const inputElement = document.getElementById(inputId);\n",
              "  inputElement.disabled = false;\n",
              "\n",
              "  const outputElement = document.getElementById(outputId);\n",
              "  outputElement.innerHTML = '';\n",
              "\n",
              "  const pickedPromise = new Promise((resolve) => {\n",
              "    inputElement.addEventListener('change', (e) => {\n",
              "      resolve(e.target.files);\n",
              "    });\n",
              "  });\n",
              "\n",
              "  const cancel = document.createElement('button');\n",
              "  inputElement.parentElement.appendChild(cancel);\n",
              "  cancel.textContent = 'Cancel upload';\n",
              "  const cancelPromise = new Promise((resolve) => {\n",
              "    cancel.onclick = () => {\n",
              "      resolve(null);\n",
              "    };\n",
              "  });\n",
              "\n",
              "  // Wait for the user to pick the files.\n",
              "  const files = yield {\n",
              "    promise: Promise.race([pickedPromise, cancelPromise]),\n",
              "    response: {\n",
              "      action: 'starting',\n",
              "    }\n",
              "  };\n",
              "\n",
              "  cancel.remove();\n",
              "\n",
              "  // Disable the input element since further picks are not allowed.\n",
              "  inputElement.disabled = true;\n",
              "\n",
              "  if (!files) {\n",
              "    return {\n",
              "      response: {\n",
              "        action: 'complete',\n",
              "      }\n",
              "    };\n",
              "  }\n",
              "\n",
              "  for (const file of files) {\n",
              "    const li = document.createElement('li');\n",
              "    li.append(span(file.name, {fontWeight: 'bold'}));\n",
              "    li.append(span(\n",
              "        `(${file.type || 'n/a'}) - ${file.size} bytes, ` +\n",
              "        `last modified: ${\n",
              "            file.lastModifiedDate ? file.lastModifiedDate.toLocaleDateString() :\n",
              "                                    'n/a'} - `));\n",
              "    const percent = span('0% done');\n",
              "    li.appendChild(percent);\n",
              "\n",
              "    outputElement.appendChild(li);\n",
              "\n",
              "    const fileDataPromise = new Promise((resolve) => {\n",
              "      const reader = new FileReader();\n",
              "      reader.onload = (e) => {\n",
              "        resolve(e.target.result);\n",
              "      };\n",
              "      reader.readAsArrayBuffer(file);\n",
              "    });\n",
              "    // Wait for the data to be ready.\n",
              "    let fileData = yield {\n",
              "      promise: fileDataPromise,\n",
              "      response: {\n",
              "        action: 'continue',\n",
              "      }\n",
              "    };\n",
              "\n",
              "    // Use a chunked sending to avoid message size limits. See b/62115660.\n",
              "    let position = 0;\n",
              "    do {\n",
              "      const length = Math.min(fileData.byteLength - position, MAX_PAYLOAD_SIZE);\n",
              "      const chunk = new Uint8Array(fileData, position, length);\n",
              "      position += length;\n",
              "\n",
              "      const base64 = btoa(String.fromCharCode.apply(null, chunk));\n",
              "      yield {\n",
              "        response: {\n",
              "          action: 'append',\n",
              "          file: file.name,\n",
              "          data: base64,\n",
              "        },\n",
              "      };\n",
              "\n",
              "      let percentDone = fileData.byteLength === 0 ?\n",
              "          100 :\n",
              "          Math.round((position / fileData.byteLength) * 100);\n",
              "      percent.textContent = `${percentDone}% done`;\n",
              "\n",
              "    } while (position < fileData.byteLength);\n",
              "  }\n",
              "\n",
              "  // All done.\n",
              "  yield {\n",
              "    response: {\n",
              "      action: 'complete',\n",
              "    }\n",
              "  };\n",
              "}\n",
              "\n",
              "scope.google = scope.google || {};\n",
              "scope.google.colab = scope.google.colab || {};\n",
              "scope.google.colab._files = {\n",
              "  _uploadFiles,\n",
              "  _uploadFilesContinue,\n",
              "};\n",
              "})(self);\n",
              "</script> "
            ]
          },
          "metadata": {}
        },
        {
          "output_type": "stream",
          "name": "stdout",
          "text": [
            "Saving sample_resume.pdf to sample_resume.pdf\n",
            "Uploaded file: sample_resume.pdf\n"
          ]
        }
      ]
    },
    {
      "cell_type": "code",
      "source": [
        "from PyPDF2 import PdfReader\n",
        "\n",
        "def extract_text_from_pdf(pdf_path):\n",
        "    reader = PdfReader(pdf_path)\n",
        "    text = ''\n",
        "    for page in reader.pages:\n",
        "        text += page.extract_text()\n",
        "    return text\n",
        "\n",
        "resume_text = extract_text_from_pdf(pdf_file)\n",
        "print(resume_text[:1000])  # Preview first 1000 characters"
      ],
      "metadata": {
        "colab": {
          "base_uri": "https://localhost:8080/"
        },
        "id": "6--z4UpTEfw_",
        "outputId": "e2cb2416-d92f-4c1c-f791-5842810a28a3"
      },
      "execution_count": null,
      "outputs": [
        {
          "output_type": "stream",
          "name": "stdout",
          "text": [
            "John Doe\n",
            "Email: john.doe@example.com | Phone: +1 234 567 8901\n",
            "LinkedIn: linkedin.com/in/johndoe | GitHub: github.com/johndoe\n",
            "Professional Summary:\n",
            "Highly motivated and results-driven software engineer with 3+ years of experience in full-stack web\n",
            "development, cloud integration, and scalable system design. Passionate about building clean,\n",
            "efficient, and user-centric solutions.\n",
            "Skills:\n",
            "- Languages: Python, JavaScript, C++\n",
            "- Web: HTML, CSS, React, Node.js, Django\n",
            "- Databases: MySQL, MongoDB, PostgreSQL\n",
            "- Cloud: AWS (EC2, S3), Heroku, Firebase\n",
            "- Tools: Git, Docker, Jenkins, VS Code\n",
            "Experience:\n",
            "Software Engineer - XYZ Tech Solutions, New York, NY  \n",
            "Jan 2021 - Present  \n",
            "- Led the development of a React-based CRM application, improving client onboarding speed by\n",
            "40%.\n",
            "- Designed RESTful APIs using Django and deployed them on AWS EC2.\n",
            "- Collaborated in Agile sprints, performed unit testing, and reduced code defects by 25%.\n",
            "Web Developer Intern - ABC Corp, Remote  \n",
            "June 2020 - Dec 2020  - Develo\n"
          ]
        }
      ]
    },
    {
      "cell_type": "code",
      "source": [
        "from transformers import pipeline\n",
        "\n",
        "# Use open-source instruct model from HuggingFace (offline)\n",
        "qa_pipeline = pipeline(\"text2text-generation\", model=\"google/flan-t5-base\")\n",
        "\n",
        "def ask_resume_question(text, question):\n",
        "    prompt = f\"Context: {text}\\n\\nQuestion: {question}\"\n",
        "    answer = qa_pipeline(prompt, max_length=256, truncation=True)[0]['generated_text']\n",
        "    return answer\n"
      ],
      "metadata": {
        "colab": {
          "base_uri": "https://localhost:8080/"
        },
        "id": "6jVNWnaIEtDO",
        "outputId": "f159d72e-3cfb-431b-93fe-c9b598337bb6"
      },
      "execution_count": null,
      "outputs": [
        {
          "output_type": "stream",
          "name": "stderr",
          "text": [
            "Device set to use cpu\n"
          ]
        }
      ]
    },
    {
      "cell_type": "code",
      "source": [
        "print(\"🔍 Skills:\", ask_resume_question(resume_text, \"List all technical and soft skills.\"))\n",
        "print(\"📚 Education:\", ask_resume_question(resume_text, \"Summarize the education details.\"))\n",
        "print(\"💼 Experience:\", ask_resume_question(resume_text, \"Summarize the work experience.\"))\n",
        "print(\"🚀 Suggestions:\", ask_resume_question(resume_text, \"How can this resume be improved?\"))\n"
      ],
      "metadata": {
        "colab": {
          "base_uri": "https://localhost:8080/"
        },
        "id": "B7CN0XF1FIJm",
        "outputId": "889ede7e-a975-40da-e4fb-ad30d1059cb2"
      },
      "execution_count": null,
      "outputs": [
        {
          "output_type": "stream",
          "name": "stderr",
          "text": [
            "Both `max_new_tokens` (=256) and `max_length`(=256) seem to have been set. `max_new_tokens` will take precedence. Please refer to the documentation for more information. (https://huggingface.co/docs/transformers/main/en/main_classes/text_generation)\n"
          ]
        },
        {
          "output_type": "stream",
          "name": "stdout",
          "text": [
            "🔍 Skills: - Languages: Python, JavaScript, C++ - Web: HTML, CSS, React, Node.js, Django - Databases: MySQL, MongoDB, PostgreSQL - Cloud: AWS (EC2, S3), Heroku, Firebase - Tools: Git, Docker, Jenkins, VS Code Experience: Software Engineer - XYZ Tech Solutions, New York, NY Jan 2021 - Present - Led the development of a React-based CRM application, improving client onboarding speed by 40% - Designed RESTful APIs using Django and deployed them on AWS EC2 - Collaborated in Agile sprints, performed unit testing, and reduced code defects by 25%. Web Developer Intern - ABC Corp, Remote June 2020 - Dec 2020 - Developed responsive UI components using HTML, CSS, and JavaScript - Automated database backups using Python scripts and Cron jobs. Education: Bachelor of Technology in Computer Science University of California, Berkeley 2016 - 2020 | GPA: 3.8/4.0 Certifications: - AWS Certified Solutions Architect -\n"
          ]
        },
        {
          "output_type": "stream",
          "name": "stderr",
          "text": [
            "Both `max_new_tokens` (=256) and `max_length`(=256) seem to have been set. `max_new_tokens` will take precedence. Please refer to the documentation for more information. (https://huggingface.co/docs/transformers/main/en/main_classes/text_generation)\n"
          ]
        },
        {
          "output_type": "stream",
          "name": "stdout",
          "text": [
            "📚 Education: John Doe is a highly motivated and results-driven software engineer with 3+ years of experience in full-stack web development, cloud integration, and scalable system design. Passionate about building clean, efficient, and user-centric solutions. Skills: - Languages: Python, JavaScript, C++ - Web: HTML, CSS, React, Node.js, Django - Databases: MySQL, MongoDB, PostgreSQL - Cloud: AWS (EC2, S3), Heroku, Firebase - Tools: Git, Docker, Jenkins, VS Code Experience: Software Engineer - XYZ Tech Solutions, New York, NY Jan 2021 - Present - Led the development of a React-based CRM application, improving client onboarding speed by 40% - Designed RESTful APIs using Django and deployed them on AWS EC2 - Collaborated in Agile sprints, performed unit testing, and reduced code defects by 25%. Web Developer Intern - ABC Corp, Remote June 2020 - Dec 2020 - Developed responsive UI components using HTML, CSS, and JavaScript.\n"
          ]
        },
        {
          "output_type": "stream",
          "name": "stderr",
          "text": [
            "Both `max_new_tokens` (=256) and `max_length`(=256) seem to have been set. `max_new_tokens` will take precedence. Please refer to the documentation for more information. (https://huggingface.co/docs/transformers/main/en/main_classes/text_generation)\n"
          ]
        },
        {
          "output_type": "stream",
          "name": "stdout",
          "text": [
            "💼 Experience: John Doe is a highly motivated and results-driven software engineer with 3+ years of experience in full-stack web development, cloud integration, and scalable system design. Passionate about building clean, efficient, and user-centric solutions. Skills: - Languages: Python, JavaScript, C++ - Web: HTML, CSS, React, Node.js, Django - Databases: MySQL, MongoDB, PostgreSQL - Cloud: AWS (EC2, S3), Heroku, Firebase - Tools: Git, Docker, Jenkins, VS Code Experience: Software Engineer - XYZ Tech Solutions, New York, NY Jan 2021 - Present - Led the development of a React-based CRM application, improving client onboarding speed by 40% - Designed RESTful APIs using Django and deployed them on AWS EC2 - Collaborated in Agile sprints, performed unit testing, and reduced code defects by 25%. Web Developer Intern - ABC Corp, Remote June 2020 - Dec 2020 - Developed responsive UI components using HTML, CSS, and JavaScript.\n"
          ]
        },
        {
          "output_type": "stream",
          "name": "stderr",
          "text": [
            "Both `max_new_tokens` (=256) and `max_length`(=256) seem to have been set. `max_new_tokens` will take precedence. Please refer to the documentation for more information. (https://huggingface.co/docs/transformers/main/en/main_classes/text_generation)\n"
          ]
        },
        {
          "output_type": "stream",
          "name": "stdout",
          "text": [
            "🚀 Suggestions: Create a personal portfolio with animation and contact form.\n"
          ]
        }
      ]
    },
    {
      "cell_type": "code",
      "source": [
        "with open(\"resume_analysis.txt\", \"w\") as f:\n",
        "    f.write(\"🔍 Skills: \" + ask_resume_question(resume_text, \"List all technical and soft skills.\") + \"\\n\\n\")\n",
        "    f.write(\"📚 Education: \" + ask_resume_question(resume_text, \"Summarize the education details.\") + \"\\n\\n\")\n",
        "    f.write(\"💼 Experience: \" + ask_resume_question(resume_text, \"Summarize the work experience.\") + \"\\n\\n\")\n",
        "    f.write(\"🚀 Suggestions: \" + ask_resume_question(resume_text, \"How can this resume be improved?\") + \"\\n\")\n",
        "\n",
        "print(\"✅ Analysis saved as 'resume_analysis.txt'\")\n"
      ],
      "metadata": {
        "colab": {
          "base_uri": "https://localhost:8080/"
        },
        "id": "jipJHu1BFym7",
        "outputId": "c2c2fe01-25c7-4d49-b958-e77c73db33f8"
      },
      "execution_count": null,
      "outputs": [
        {
          "output_type": "stream",
          "name": "stderr",
          "text": [
            "Both `max_new_tokens` (=256) and `max_length`(=256) seem to have been set. `max_new_tokens` will take precedence. Please refer to the documentation for more information. (https://huggingface.co/docs/transformers/main/en/main_classes/text_generation)\n",
            "Both `max_new_tokens` (=256) and `max_length`(=256) seem to have been set. `max_new_tokens` will take precedence. Please refer to the documentation for more information. (https://huggingface.co/docs/transformers/main/en/main_classes/text_generation)\n",
            "Both `max_new_tokens` (=256) and `max_length`(=256) seem to have been set. `max_new_tokens` will take precedence. Please refer to the documentation for more information. (https://huggingface.co/docs/transformers/main/en/main_classes/text_generation)\n",
            "Both `max_new_tokens` (=256) and `max_length`(=256) seem to have been set. `max_new_tokens` will take precedence. Please refer to the documentation for more information. (https://huggingface.co/docs/transformers/main/en/main_classes/text_generation)\n"
          ]
        },
        {
          "output_type": "stream",
          "name": "stdout",
          "text": [
            "✅ Analysis saved as 'resume_analysis.txt'\n"
          ]
        }
      ]
    },
    {
      "cell_type": "code",
      "source": [
        "!pip install -q gradio transformers pypdf sentence-transformers\n"
      ],
      "metadata": {
        "id": "L765A1UoF4Hg"
      },
      "execution_count": null,
      "outputs": []
    },
    {
      "cell_type": "code",
      "source": [
        "from transformers import pipeline\n",
        "\n",
        "# Load lightweight instruction-tuned model\n",
        "qa_pipeline = pipeline(\"text2text-generation\", model=\"google/flan-t5-base\")\n",
        "\n",
        "def ask_question(context, question):\n",
        "    prompt = f\"Context: {context}\\n\\nQuestion: {question}\"\n",
        "    result = qa_pipeline(prompt, max_length=256, truncation=True)[0]['generated_text']\n",
        "    return result\n"
      ],
      "metadata": {
        "colab": {
          "base_uri": "https://localhost:8080/"
        },
        "id": "LtGJpiJlG_JO",
        "outputId": "780176a2-e948-4ec2-be1c-a1acae050798"
      },
      "execution_count": null,
      "outputs": [
        {
          "output_type": "stream",
          "name": "stderr",
          "text": [
            "Device set to use cpu\n"
          ]
        }
      ]
    },
    {
      "cell_type": "code",
      "source": [
        "from PyPDF2 import PdfReader\n",
        "\n",
        "def extract_text_from_pdf(pdf_file):\n",
        "    reader = PdfReader(pdf_file)\n",
        "    text = ''\n",
        "    for page in reader.pages:\n",
        "        text += page.extract_text()\n",
        "    return text\n"
      ],
      "metadata": {
        "id": "2qBPJPNtHDLT"
      },
      "execution_count": null,
      "outputs": []
    },
    {
      "cell_type": "code",
      "source": [
        "def analyze_resume(pdf_file):\n",
        "    resume_text = extract_text_from_pdf(pdf_file)\n",
        "\n",
        "    skills = ask_question(resume_text, \"List all technical and soft skills.\")\n",
        "    education = ask_question(resume_text, \"Summarize the education details.\")\n",
        "    experience = ask_question(resume_text, \"Summarize the work experience.\")\n",
        "    suggestions = ask_question(resume_text, \"How can this resume be improved?\")\n",
        "\n",
        "    return f\"\"\"\n",
        "🔍 **Skills**: {skills}\n",
        "\n",
        "📚 **Education**: {education}\n",
        "\n",
        "💼 **Experience**: {experience}\n",
        "\n",
        "🚀 **Suggestions**: {suggestions}\n",
        "\"\"\"\n"
      ],
      "metadata": {
        "id": "_MhadZS_HG8L"
      },
      "execution_count": null,
      "outputs": []
    },
    {
      "cell_type": "code",
      "source": [
        "import tempfile\n",
        "\n",
        "def analyze_resume(pdf_file):\n",
        "    resume_text = extract_text_from_pdf(pdf_file)\n",
        "\n",
        "    skills = ask_question(resume_text, \"List all technical and soft skills.\")\n",
        "    education = ask_question(resume_text, \"Summarize the education details.\")\n",
        "    experience = ask_question(resume_text, \"Summarize the work experience.\")\n",
        "    suggestions = ask_question(resume_text, \"How can this resume be improved?\")\n",
        "\n",
        "    # 🧠 Basic summary score (0–10)\n",
        "    score = ask_question(resume_text, \"Give a professional summary score from 0 to 10 with reasoning.\")\n",
        "\n",
        "    result = f\"\"\"\n",
        "🔍 **Skills**: {skills}\n",
        "\n",
        "📚 **Education**: {education}\n",
        "\n",
        "💼 **Experience**: {experience}\n",
        "\n",
        "🚀 **Suggestions**: {suggestions}\n",
        "\n",
        "📊 **Summary Score**: {score}\n",
        "\"\"\"\n",
        "\n",
        "    # Save to a temp file\n",
        "    with tempfile.NamedTemporaryFile(delete=False, mode='w', suffix='.txt') as tmp:\n",
        "        tmp.write(result)\n",
        "        output_file = tmp.name\n",
        "\n",
        "    return result, output_file\n"
      ],
      "metadata": {
        "id": "0EzC06DmHT8C"
      },
      "execution_count": null,
      "outputs": []
    },
    {
      "cell_type": "code",
      "source": [
        "def analyze_resume(pdf_file):\n",
        "    resume_text = extract_text_from_pdf(pdf_file)\n",
        "\n",
        "    skills = ask_question(resume_text, \"List all technical and soft skills.\")\n",
        "    education = ask_question(resume_text, \"Summarize the education details.\")\n",
        "    experience = ask_question(resume_text, \"Summarize the work experience.\")\n",
        "    suggestions = ask_question(resume_text, \"How can this resume be improved?\")\n",
        "    score_response = ask_question(resume_text, \"Give a professional summary score from 0 to 10 with reasoning.\")\n",
        "\n",
        "    # Try to extract numeric score from the response\n",
        "    import re\n",
        "    match = re.search(r'(\\d+(\\.\\d+)?)', score_response)\n",
        "    score_value = float(match.group(1)) if match else 0.0\n",
        "\n",
        "    result = f\"\"\"\n",
        "🔍 **Skills**: {skills}\n",
        "\n",
        "📚 **Education**: {education}\n",
        "\n",
        "💼 **Experience**: {experience}\n",
        "\n",
        "🚀 **Suggestions**: {suggestions}\n",
        "\n",
        "📊 **Summary Score**: {score_response}\n",
        "\"\"\"\n",
        "\n",
        "    # Save to a file for download\n",
        "    with tempfile.NamedTemporaryFile(delete=False, mode='w', suffix='.txt') as tmp:\n",
        "        tmp.write(result)\n",
        "        output_file = tmp.name\n",
        "\n",
        "    return result, output_file, score_value\n"
      ],
      "metadata": {
        "id": "1OPHQL8xHuqQ"
      },
      "execution_count": null,
      "outputs": []
    },
    {
      "cell_type": "code",
      "source": [
        "import matplotlib.pyplot as plt\n",
        "\n",
        "def plot_score(score):\n",
        "    fig, ax = plt.subplots(figsize=(6, 1.5))\n",
        "    ax.barh([\"Resume Score\"], [score], color='skyblue')\n",
        "    ax.set_xlim(0, 10)\n",
        "    ax.set_xlabel(\"Score (out of 10)\")\n",
        "    ax.set_title(\"📊 Resume Summary Score\")\n",
        "    plt.tight_layout()\n",
        "    return fig\n"
      ],
      "metadata": {
        "id": "AdmeWSf4IKCw"
      },
      "execution_count": null,
      "outputs": []
    },
    {
      "cell_type": "code",
      "source": [
        "import gradio as gr\n",
        "\n",
        "demo = gr.Interface(\n",
        "    fn=lambda pdf: (\n",
        "        lambda analysis, file, score: (analysis, file, plot_score(score))\n",
        "    )(*analyze_resume(pdf)),\n",
        "\n",
        "    inputs=gr.File(label=\"Upload Resume PDF\", file_types=[\".pdf\"]),\n",
        "    outputs=[\n",
        "        gr.Textbox(label=\"AI Resume Analysis\"),\n",
        "        gr.File(label=\"📥 Download Analysis (.txt)\"),\n",
        "        gr.Plot(label=\"📊 Summary Score (out of 10)\")\n",
        "    ],\n",
        "    title=\"🧠 AI Resume Analyzer with Score & Download\",\n",
        "    description=\"Upload a resume PDF. Analyze skills, get suggestions, a score, and download the analysis.\",\n",
        "    theme=\"default\",\n",
        ")\n",
        "\n",
        "demo.launch(share=True)\n"
      ],
      "metadata": {
        "colab": {
          "base_uri": "https://localhost:8080/",
          "height": 611
        },
        "id": "nHQmGGgnINrf",
        "outputId": "b3dba8c8-5ee9-419b-b3da-c612eeb8d179"
      },
      "execution_count": null,
      "outputs": [
        {
          "output_type": "stream",
          "name": "stdout",
          "text": [
            "Colab notebook detected. To show errors in colab notebook, set debug=True in launch()\n",
            "* Running on public URL: https://548e8e709bebc690aa.gradio.live\n",
            "\n",
            "This share link expires in 1 week. For free permanent hosting and GPU upgrades, run `gradio deploy` from the terminal in the working directory to deploy to Hugging Face Spaces (https://huggingface.co/spaces)\n"
          ]
        },
        {
          "output_type": "display_data",
          "data": {
            "text/plain": [
              "<IPython.core.display.HTML object>"
            ],
            "text/html": [
              "<div><iframe src=\"https://548e8e709bebc690aa.gradio.live\" width=\"100%\" height=\"500\" allow=\"autoplay; camera; microphone; clipboard-read; clipboard-write;\" frameborder=\"0\" allowfullscreen></iframe></div>"
            ]
          },
          "metadata": {}
        },
        {
          "output_type": "execute_result",
          "data": {
            "text/plain": []
          },
          "metadata": {},
          "execution_count": 35
        }
      ]
    },
    {
      "cell_type": "markdown",
      "source": [
        "📁 Project Structure\n",
        "bash\n",
        "Copy\n",
        "Edit\n",
        "├── app.py               # Main Gradio app\n",
        "├── resume_parser.py     # AI resume analysis logic\n",
        "├── utils.py             # PDF extraction, visualization\n",
        "├── requirements.txt     # Dependencies\n",
        "├── README.md            # Project readme\n",
        "└── assets/\n",
        "    └── demo_screenshot.png\n",
        "📌 Example Use Case\n",
        "🎯 Who is this for?\n",
        "\n",
        "Job seekers looking for resume improvement\n",
        "\n",
        "Career coaches\n",
        "\n",
        "HR professionals\n",
        "\n",
        "Students and freshers\n",
        "\n",
        "🛡️ License\n",
        "This project is licensed under the MIT License.\n",
        "\n",
        "🤝 Contributing\n",
        "PRs are welcome! For major changes, open an issue first to discuss what you'd like to change.\n",
        "\n",
        "📬 Contact\n",
        "Sahil Pawar\n",
        "LinkedIn • Email\n",
        "\n",
        "⚡ Built with 💡 to help you craft job-winning resumes"
      ],
      "metadata": {
        "id": "iLOhaCC7JyX5"
      }
    },
    {
      "cell_type": "markdown",
      "source": [
        "# 🤖 AI Resume Analyzer with Score & Download\n",
        "\n",
        "This AI-powered web application allows you to upload a resume (PDF), analyze its content using a Large Language Model (LLM like OpenAI GPT), and get detailed insights including skills, education, work experience, improvement suggestions, and a professional score out of 10. The analysis is visualized through a score bar and can be downloaded as a `.pdf` report.\n",
        "\n",
        "---\n",
        "\n",
        "## ✨ Features\n",
        "\n",
        "- 📤 Upload your resume in `.pdf` format\n",
        "- 🧠 AI-powered analysis (Skills, Education, Experience)\n",
        "- 🚀 Personalized suggestions for improvement\n",
        "- 📊 Visual summary score (0–10) as a horizontal bar chart\n",
        "- 📥 Download full analysis report as a `.pdf` file\n",
        "- 🧱 Built with Gradio + OpenAI + Matplotlib\n",
        "\n",
        "---\n",
        "\n",
        "## 📸 Demo Screenshot\n",
        "\n",
        "![AI Resume Analyzer Screenshot](demo_screenshot.png)\n",
        "\n",
        "---\n",
        "\n",
        "## 🔧 Tech Stack\n",
        "\n",
        "| Tool         | Purpose                        |\n",
        "|--------------|--------------------------------|\n",
        "| 🐍 Python     | Backend Logic & Integration    |\n",
        "| 📚 OpenAI API | Natural Language Analysis      |\n",
        "| 📊 Matplotlib | Visualization (Score Bar)      |\n",
        "| 🖼️ Gradio     | Interactive Web UI             |\n",
        "| 📄 FPDF       | Exporting analysis as PDF      |\n",
        "\n",
        "---\n",
        "\n",
        "## 🚀 How to Run the App\n",
        "\n",
        "### 1. Clone the Repo\n",
        "```bash\n",
        "git clone https://github.com/yourusername/ai-resume-analyzer.git\n",
        "cd ai-resume-analyzer\n"
      ],
      "metadata": {
        "id": "OTHpGyNwJE4-"
      }
    }
  ]
}